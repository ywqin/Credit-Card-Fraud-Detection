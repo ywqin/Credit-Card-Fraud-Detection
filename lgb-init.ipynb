{
 "cells": [
  {
   "cell_type": "code",
   "execution_count": 1,
   "id": "5fe723ef",
   "metadata": {
    "_cell_guid": "b1076dfc-b9ad-4769-8c92-a6c4dae69d19",
    "_uuid": "8f2839f25d086af736a60e9eeb907d3b93b6e0e5",
    "execution": {
     "iopub.execute_input": "2023-01-26T02:53:13.505789Z",
     "iopub.status.busy": "2023-01-26T02:53:13.504969Z",
     "iopub.status.idle": "2023-01-26T02:53:15.436035Z",
     "shell.execute_reply": "2023-01-26T02:53:15.434741Z"
    },
    "papermill": {
     "duration": 1.940662,
     "end_time": "2023-01-26T02:53:15.438732",
     "exception": false,
     "start_time": "2023-01-26T02:53:13.498070",
     "status": "completed"
    },
    "tags": []
   },
   "outputs": [
    {
     "data": {
      "text/html": [
       "<style type='text/css'>\n",
       ".datatable table.frame { margin-bottom: 0; }\n",
       ".datatable table.frame thead { border-bottom: none; }\n",
       ".datatable table.frame tr.coltypes td {  color: #FFFFFF;  line-height: 6px;  padding: 0 0.5em;}\n",
       ".datatable .bool    { background: #DDDD99; }\n",
       ".datatable .object  { background: #565656; }\n",
       ".datatable .int     { background: #5D9E5D; }\n",
       ".datatable .float   { background: #4040CC; }\n",
       ".datatable .str     { background: #CC4040; }\n",
       ".datatable .time    { background: #40CC40; }\n",
       ".datatable .row_index {  background: var(--jp-border-color3);  border-right: 1px solid var(--jp-border-color0);  color: var(--jp-ui-font-color3);  font-size: 9px;}\n",
       ".datatable .frame tbody td { text-align: left; }\n",
       ".datatable .frame tr.coltypes .row_index {  background: var(--jp-border-color0);}\n",
       ".datatable th:nth-child(2) { padding-left: 12px; }\n",
       ".datatable .hellipsis {  color: var(--jp-cell-editor-border-color);}\n",
       ".datatable .vellipsis {  background: var(--jp-layout-color0);  color: var(--jp-cell-editor-border-color);}\n",
       ".datatable .na {  color: var(--jp-cell-editor-border-color);  font-size: 80%;}\n",
       ".datatable .sp {  opacity: 0.25;}\n",
       ".datatable .footer { font-size: 9px; }\n",
       ".datatable .frame_dimensions {  background: var(--jp-border-color3);  border-top: 1px solid var(--jp-border-color0);  color: var(--jp-ui-font-color3);  display: inline-block;  opacity: 0.6;  padding: 1px 10px 1px 5px;}\n",
       "</style>\n"
      ],
      "text/plain": [
       "<IPython.core.display.HTML object>"
      ]
     },
     "metadata": {},
     "output_type": "display_data"
    }
   ],
   "source": [
    "import numpy as np # linear algebra\n",
    "import pandas as pd # data processing, CSV file I/O (e.g. pd.read_csv)\n",
    "import lightgbm as lgb\n",
    "from sklearn.model_selection import train_test_split\n",
    "from sklearn.metrics import confusion_matrix\n",
    "from sklearn.metrics import classification_report\n",
    "import warnings\n",
    "warnings.filterwarnings(\"ignore\")"
   ]
  },
  {
   "cell_type": "code",
   "execution_count": 2,
   "id": "c8a2fb83",
   "metadata": {
    "execution": {
     "iopub.execute_input": "2023-01-26T02:53:15.449517Z",
     "iopub.status.busy": "2023-01-26T02:53:15.448712Z",
     "iopub.status.idle": "2023-01-26T02:53:15.459149Z",
     "shell.execute_reply": "2023-01-26T02:53:15.458001Z"
    },
    "papermill": {
     "duration": 0.01912,
     "end_time": "2023-01-26T02:53:15.462535",
     "exception": false,
     "start_time": "2023-01-26T02:53:15.443415",
     "status": "completed"
    },
    "tags": []
   },
   "outputs": [
    {
     "name": "stdout",
     "output_type": "stream",
     "text": [
      "/kaggle/input/playground-series-s3e4/sample_submission.csv\n",
      "/kaggle/input/playground-series-s3e4/train.csv\n",
      "/kaggle/input/playground-series-s3e4/test.csv\n"
     ]
    },
    {
     "data": {
      "text/plain": [
       "['sample_submission.csv', 'train.csv', 'test.csv']"
      ]
     },
     "execution_count": 2,
     "metadata": {},
     "output_type": "execute_result"
    }
   ],
   "source": [
    "import os\n",
    "for dirname, _, filenames in os.walk('/kaggle/input'):\n",
    "    for filename in filenames:\n",
    "        print(os.path.join(dirname, filename))\n",
    "#data path.\n",
    "PATH = '/kaggle/input/playground-series-s3e4/'\n",
    "os.listdir(PATH)"
   ]
  },
  {
   "cell_type": "code",
   "execution_count": 3,
   "id": "76112e48",
   "metadata": {
    "execution": {
     "iopub.execute_input": "2023-01-26T02:53:15.473146Z",
     "iopub.status.busy": "2023-01-26T02:53:15.472443Z",
     "iopub.status.idle": "2023-01-26T02:53:20.838348Z",
     "shell.execute_reply": "2023-01-26T02:53:20.836763Z"
    },
    "papermill": {
     "duration": 5.374828,
     "end_time": "2023-01-26T02:53:20.841468",
     "exception": false,
     "start_time": "2023-01-26T02:53:15.466640",
     "status": "completed"
    },
    "tags": []
   },
   "outputs": [],
   "source": [
    "train = pd.read_csv(PATH + 'train.csv')\n",
    "test = pd.read_csv(PATH + 'test.csv')"
   ]
  },
  {
   "cell_type": "code",
   "execution_count": 4,
   "id": "28b9c387",
   "metadata": {
    "execution": {
     "iopub.execute_input": "2023-01-26T02:53:20.851178Z",
     "iopub.status.busy": "2023-01-26T02:53:20.850751Z",
     "iopub.status.idle": "2023-01-26T02:53:20.858299Z",
     "shell.execute_reply": "2023-01-26T02:53:20.856585Z"
    },
    "papermill": {
     "duration": 0.015244,
     "end_time": "2023-01-26T02:53:20.860773",
     "exception": false,
     "start_time": "2023-01-26T02:53:20.845529",
     "status": "completed"
    },
    "tags": []
   },
   "outputs": [
    {
     "name": "stdout",
     "output_type": "stream",
     "text": [
      "Index(['id', 'Time', 'V1', 'V2', 'V3', 'V4', 'V5', 'V6', 'V7', 'V8', 'V9',\n",
      "       'V10', 'V11', 'V12', 'V13', 'V14', 'V15', 'V16', 'V17', 'V18', 'V19',\n",
      "       'V20', 'V21', 'V22', 'V23', 'V24', 'V25', 'V26', 'V27', 'V28', 'Amount',\n",
      "       'Class'],\n",
      "      dtype='object')\n"
     ]
    }
   ],
   "source": [
    "print(train.columns)"
   ]
  },
  {
   "cell_type": "code",
   "execution_count": 5,
   "id": "6de5d0e7",
   "metadata": {
    "execution": {
     "iopub.execute_input": "2023-01-26T02:53:20.870548Z",
     "iopub.status.busy": "2023-01-26T02:53:20.870208Z",
     "iopub.status.idle": "2023-01-26T02:53:20.898643Z",
     "shell.execute_reply": "2023-01-26T02:53:20.897855Z"
    },
    "papermill": {
     "duration": 0.036155,
     "end_time": "2023-01-26T02:53:20.901003",
     "exception": false,
     "start_time": "2023-01-26T02:53:20.864848",
     "status": "completed"
    },
    "tags": []
   },
   "outputs": [],
   "source": [
    "class Data(object):\n",
    "    def __init__(self, TRAIN, TEST, ID, TARGET, PREPROCESSING_PARAMS={}):\n",
    "        if 'drop' in PREPROCESSING_PARAMS:\n",
    "            TRAIN.drop(columns=PREPROCESSING_PARAMS['drop'], inplace=True)\n",
    "            TEST.drop(columns=PREPROCESSING_PARAMS['drop'], inplace=True)\n",
    "            print(\"Columns \" + ' '.join(map(str, PREPROCESSING_PARAMS['drop'])))\n",
    "\n",
    "        if 'fillna' in PREPROCESSING_PARAMS:\n",
    "           col = [c for c in TRAIN.columns if c not in [ID, TARGET]]\n",
    "           imp = PREPROCESSING_PARAMS['fillna']\n",
    "           for c in col:\n",
    "               if PREPROCESSING_PARAMS['fillna'] == 'mean':\n",
    "                   imp = np.mean(TRAIN[c])\n",
    "               if PREPROCESSING_PARAMS['fillna'] == 'median':\n",
    "                   imp = np.median(TRAIN[c])\n",
    "\n",
    "               TRAIN[c].fillna(imp, inplace=True)\n",
    "               TEST[c].fillna(imp, inplace=True)\n",
    "           print(\"fillna complete\")\n",
    "\n",
    "        self.TRAIN = TRAIN\n",
    "        self.TEST = TEST\n",
    "        self.ID = ID\n",
    "        self.TARGET = TARGET\n",
    "\n",
    "class Model(object):\n",
    "    def __init__(self, DATA, MODEL='ETR', PARAMS={}, TEST_SIZE = 0.25, RANDOM_STATE=5):\n",
    "        from sklearn import  model_selection\n",
    "        col = [c for c in DATA.TRAIN.columns if c not in [DATA.ID,DATA.TARGET]]\n",
    "        X1, X2, Y1, Y2 =  model_selection.train_test_split(DATA.TRAIN[col], DATA.TRAIN[DATA.TARGET], test_size=TEST_SIZE, random_state=RANDOM_STATE)\n",
    "        if MODEL in ['ETR']:\n",
    "            from sklearn import ensemble\n",
    "            LIB = ensemble.ExtraTreesRegressor(n_jobs=-1, random_state = RANDOM_STATE)\n",
    "            PARAMS_ = LIB.get_params()\n",
    "            for p in PARAMS:\n",
    "                if p in PARAMS_:\n",
    "                    LIB.set_params({p: PARAMS[p]})\n",
    "            LIB.fit(DATA.TRAIN[col], DATA.TRAIN[DATA.TARGET])\n",
    "            DATA.TEST[DATA.TARGET] = LIB.predict(DATA.TEST[col])\n",
    "            self.PRED = DATA.TEST[[DATA.ID, DATA.TARGET]]\n",
    "        elif MODEL in ['XGB']:\n",
    "            import xgboost as xgb\n",
    "            default_params = {'num_round': 20, 'verbose_eval': 10, 'early_stopping_rounds': 20}\n",
    "\n",
    "            if PARAMS == {}:\n",
    "                PARAMS = {'eta': 0.2, 'max_depth': 4, 'objective': 'reg:linear', 'eval_metric': 'rmse', 'seed': RANDOM_STATE, 'silent': True, 'num_round': 20, 'verbose_eval': 10, 'early_stopping_rounds': 20}\n",
    "            if 'num_round' in PARAMS:\n",
    "                default_params['num_round'] = PARAMS['num_round'] \n",
    "            if 'verbose_eval' in PARAMS:\n",
    "                default_params['verbose_eval'] = PARAMS['verbose_eval'] \n",
    "            if 'early_stopping_rounds' in PARAMS:\n",
    "                default_params['early_stopping_rounds'] = PARAMS['early_stopping_rounds'] \n",
    "\n",
    "            def xgb_rmse(preds, y):\n",
    "                y = y.get_label()\n",
    "                score = np.sqrt(metrics.mean_squared_error(y, preds))\n",
    "                return 'RMSE', score\n",
    "\n",
    "            watchlist = [(xgb.DMatrix(X1, Y1), 'train'), (xgb.DMatrix(X2, Y2), 'valid')] \n",
    "            LIB = xgb.train(PARAMS, xgb.DMatrix(X1, Y1), default_params['num_round'],  watchlist, verbose_eval=default_params['verbose_eval'], early_stopping_rounds=default_params['early_stopping_rounds']) #feval=xgb_rmse, maximize=False\n",
    "            DATA.TEST[DATA.TARGET] = LIB.predict(xgb.DMatrix(DATA.TEST[col]), ntree_limit=LIB.best_ntree_limit)\n",
    "            self.PRED = DATA.TEST[[DATA.ID, DATA.TARGET]].copy()\n",
    "\n",
    "        elif MODEL in ['LGB']:\n",
    "            import lightgbm as lgb\n",
    "            default_params = {'verbose_eval': 10}\n",
    "\n",
    "            if PARAMS == {}:\n",
    "                PARAMS = {'learning_rate': 0.2, 'max_depth': 7, 'boosting': 'gbdt', 'objective': 'regression', 'metric':'rmse', 'seed': RANDOM_STATE, 'num_iterations': 100, 'early_stopping_round': 20}\n",
    "            if 'verbose_eval' in PARAMS:\n",
    "                default_params['verbose_eval'] = PARAMS['verbose_eval']\n",
    "\n",
    "            def lgb_rmse(preds, y):\n",
    "                y = np.array(list(y.get_label()))\n",
    "                score = np.sqrt(metrics.mean_squared_error(y, preds))\n",
    "                return 'RMSE', score, False\n",
    "            def F1score(preds, eval_data):\n",
    "                preds = 1. / (1. + np.exp(-preds))\n",
    "                preds = [1 if item > 0.5 else 0 for item in preds]\n",
    "                eval_data = np.array(list(eval_data.get_label()))\n",
    "                report = classification_report(preds, eval_data, output_dict=True)\n",
    "                score = 1-report['macro avg']['f1-score'] #report['1']['f1-score']\n",
    "                return '1-F1score', score, False\n",
    "\n",
    "            LIB = lgb.train(PARAMS, lgb.Dataset(X1, label=Y1), valid_sets=lgb.Dataset(X2, label=Y2), verbose_eval=default_params['verbose_eval'], feval=F1score) #\n",
    "            DATA.TEST[DATA.TARGET] = LIB.predict(DATA.TEST[col], num_iteration=LIB.best_iteration)\n",
    "            self.PRED = DATA.TEST[[DATA.ID, DATA.TARGET]].copy()\n",
    "\n",
    "        elif MODEL in ['CB']:\n",
    "            from catboost import CatBoostRegressor\n",
    "            default_params = {'iterations': 100, 'learning_rate': 0.2, 'depth': 7, 'loss_function': 'RMSE', 'eval_metric':'RMSE', 'od_type': 'Iter', 'od_wait': 20, 'verbose':False}\n",
    "\n",
    "            if PARAMS == {}:\n",
    "                PARAMS = {'iterations': 100, 'learning_rate': 0.2, 'depth': 7, 'loss_function': 'RMSE', 'eval_metric':'RMSE', 'od_type': 'Iter', 'od_wait': 20, 'verbose':False}\n",
    "            for p in default_params:\n",
    "                if p not in PARAMS:\n",
    "                    PARAMS[p] = default_params[p]\n",
    "\n",
    "            LIB = CatBoostRegressor(iterations=PARAMS['iterations'], learning_rate=PARAMS['learning_rate'], depth=PARAMS['depth'], loss_function=PARAMS['loss_function'], eval_metric=PARAMS['eval_metric'], random_seed=RANDOM_STATE, od_type=PARAMS['od_type'], od_wait=PARAMS['od_wait'])\n",
    "            LIB.fit(X1, Y1, eval_set=(X2, Y2), use_best_model=True, verbose=PARAMS['verbose'])\n",
    "            DATA.TEST[DATA.TARGET] = LIB.predict(DATA.TEST[col])\n",
    "            self.PRED = DATA.TEST[[DATA.ID, DATA.TARGET]].copy()\n",
    "\n",
    "        else:\n",
    "            DATA.TEST[DATA.TARGET] = np.median(DATA.TRAIN[DATA.TARGET])\n",
    "            self.PRED = DATA.TEST[[DATA.ID, DATA.TARGET]].copy()"
   ]
  },
  {
   "cell_type": "code",
   "execution_count": 6,
   "id": "5bf3ee63",
   "metadata": {
    "execution": {
     "iopub.execute_input": "2023-01-26T02:53:20.911925Z",
     "iopub.status.busy": "2023-01-26T02:53:20.910391Z",
     "iopub.status.idle": "2023-01-26T02:53:30.642438Z",
     "shell.execute_reply": "2023-01-26T02:53:30.640595Z"
    },
    "papermill": {
     "duration": 9.739802,
     "end_time": "2023-01-26T02:53:30.645117",
     "exception": false,
     "start_time": "2023-01-26T02:53:20.905315",
     "status": "completed"
    },
    "tags": []
   },
   "outputs": [
    {
     "name": "stdout",
     "output_type": "stream",
     "text": [
      "[LightGBM] [Warning] Unknown parameter: verbose_eval\n",
      "[LightGBM] [Warning] Unknown parameter: verbose_eval\n",
      "[LightGBM] [Info] Number of positive: 371, number of negative: 174932\n",
      "[LightGBM] [Warning] Auto-choosing col-wise multi-threading, the overhead of testing was 0.036109 seconds.\n",
      "You can set `force_col_wise=true` to remove the overhead.\n",
      "[LightGBM] [Info] Total Bins 7650\n",
      "[LightGBM] [Info] Number of data points in the train set: 175303, number of used features: 30\n",
      "[LightGBM] [Warning] Unknown parameter: verbose_eval\n",
      "[LightGBM] [Info] [binary:BoostFromScore]: pavg=0.002116 -> initscore=-6.155951\n",
      "[LightGBM] [Info] Start training from score -6.155951\n",
      "Training until validation scores don't improve for 100 rounds\n",
      "Early stopping, best iteration is:\n",
      "[1]\tvalid_0's auc: 0.606201\tvalid_0's 1-F1score: 0.997769\n"
     ]
    }
   ],
   "source": [
    "data = Data(train, test, 'id', 'Class')\n",
    "params = {'learning_rate': 0.003, 'max_depth': 10, 'boosting': 'gbdt', \\\n",
    "          'objective': 'binary', 'metric':'auc', 'seed': 4, \\\n",
    "          'num_iterations': 10000, 'early_stopping_round': 100, \\\n",
    "          'verbose_eval': 200, 'num_leaves': 40, \\\n",
    "          'feature_fraction': 0.8, \\\n",
    "          'bagging_fraction': 0.8, \\\n",
    "          'bagging_freq': 5}\n",
    "preds = Model(data, 'LGB', params, 0.2, 4).PRED['Class'].clip(0,1)\n",
    "preds = 1. / (1. + np.exp(-preds))\n",
    "preds = [1 if item > 0.5 else 0 for item in preds]\n",
    "test['Class'] = preds"
   ]
  },
  {
   "cell_type": "code",
   "execution_count": 7,
   "id": "adc06b16",
   "metadata": {
    "execution": {
     "iopub.execute_input": "2023-01-26T02:53:30.656244Z",
     "iopub.status.busy": "2023-01-26T02:53:30.654865Z",
     "iopub.status.idle": "2023-01-26T02:53:30.662243Z",
     "shell.execute_reply": "2023-01-26T02:53:30.660889Z"
    },
    "papermill": {
     "duration": 0.01544,
     "end_time": "2023-01-26T02:53:30.664986",
     "exception": false,
     "start_time": "2023-01-26T02:53:30.649546",
     "status": "completed"
    },
    "tags": []
   },
   "outputs": [
    {
     "name": "stdout",
     "output_type": "stream",
     "text": [
      "0         1\n",
      "1         1\n",
      "2         1\n",
      "3         1\n",
      "4         1\n",
      "         ..\n",
      "146082    1\n",
      "146083    1\n",
      "146084    1\n",
      "146085    1\n",
      "146086    1\n",
      "Name: Class, Length: 146087, dtype: int64\n"
     ]
    }
   ],
   "source": [
    "print(test['Class'])"
   ]
  },
  {
   "cell_type": "code",
   "execution_count": null,
   "id": "2a59301c",
   "metadata": {
    "papermill": {
     "duration": 0.003959,
     "end_time": "2023-01-26T02:53:30.673548",
     "exception": false,
     "start_time": "2023-01-26T02:53:30.669589",
     "status": "completed"
    },
    "tags": []
   },
   "outputs": [],
   "source": []
  },
  {
   "cell_type": "code",
   "execution_count": 8,
   "id": "76ccb1de",
   "metadata": {
    "execution": {
     "iopub.execute_input": "2023-01-26T02:53:30.683506Z",
     "iopub.status.busy": "2023-01-26T02:53:30.683127Z",
     "iopub.status.idle": "2023-01-26T02:53:33.516518Z",
     "shell.execute_reply": "2023-01-26T02:53:33.515480Z"
    },
    "papermill": {
     "duration": 2.841091,
     "end_time": "2023-01-26T02:53:33.518828",
     "exception": false,
     "start_time": "2023-01-26T02:53:30.677737",
     "status": "completed"
    },
    "tags": []
   },
   "outputs": [
    {
     "name": "stdout",
     "output_type": "stream",
     "text": [
      "[1]\tvalid_0's binary_logloss: 0.014794\n",
      "[2]\tvalid_0's binary_logloss: 0.0147098\n",
      "[3]\tvalid_0's binary_logloss: 0.0146414\n",
      "[4]\tvalid_0's binary_logloss: 0.0145295\n",
      "[5]\tvalid_0's binary_logloss: 0.0144656\n",
      "[6]\tvalid_0's binary_logloss: 0.014406\n",
      "[7]\tvalid_0's binary_logloss: 0.014371\n",
      "[8]\tvalid_0's binary_logloss: 0.01434\n",
      "[9]\tvalid_0's binary_logloss: 0.0143033\n",
      "[10]\tvalid_0's binary_logloss: 0.0142744\n",
      "[11]\tvalid_0's binary_logloss: 0.0142379\n",
      "[12]\tvalid_0's binary_logloss: 0.0142257\n",
      "[13]\tvalid_0's binary_logloss: 0.0141903\n",
      "[14]\tvalid_0's binary_logloss: 0.0141685\n",
      "[15]\tvalid_0's binary_logloss: 0.0141568\n",
      "[16]\tvalid_0's binary_logloss: 0.0141259\n",
      "[17]\tvalid_0's binary_logloss: 0.0141264\n",
      "[18]\tvalid_0's binary_logloss: 0.0141238\n",
      "[19]\tvalid_0's binary_logloss: 0.014085\n",
      "[20]\tvalid_0's binary_logloss: 0.0140655\n",
      "[21]\tvalid_0's binary_logloss: 0.0140564\n",
      "[22]\tvalid_0's binary_logloss: 0.0139949\n",
      "[23]\tvalid_0's binary_logloss: 0.0139847\n",
      "[24]\tvalid_0's binary_logloss: 0.0139795\n",
      "[25]\tvalid_0's binary_logloss: 0.013979\n",
      "[26]\tvalid_0's binary_logloss: 0.0139534\n",
      "[27]\tvalid_0's binary_logloss: 0.0139548\n",
      "[28]\tvalid_0's binary_logloss: 0.0139515\n",
      "[29]\tvalid_0's binary_logloss: 0.0139487\n",
      "[30]\tvalid_0's binary_logloss: 0.0139445\n",
      "[31]\tvalid_0's binary_logloss: 0.0139325\n",
      "[32]\tvalid_0's binary_logloss: 0.0139071\n",
      "[33]\tvalid_0's binary_logloss: 0.0139015\n",
      "[34]\tvalid_0's binary_logloss: 0.0139007\n",
      "[35]\tvalid_0's binary_logloss: 0.0138962\n",
      "[36]\tvalid_0's binary_logloss: 0.013889\n",
      "[37]\tvalid_0's binary_logloss: 0.0138756\n",
      "[38]\tvalid_0's binary_logloss: 0.0138727\n",
      "[39]\tvalid_0's binary_logloss: 0.0138657\n",
      "[40]\tvalid_0's binary_logloss: 0.0138624\n",
      "[41]\tvalid_0's binary_logloss: 0.013864\n",
      "[42]\tvalid_0's binary_logloss: 0.0138613\n",
      "[43]\tvalid_0's binary_logloss: 0.0138575\n",
      "[44]\tvalid_0's binary_logloss: 0.0138574\n",
      "[45]\tvalid_0's binary_logloss: 0.0138534\n",
      "[46]\tvalid_0's binary_logloss: 0.0138548\n",
      "[47]\tvalid_0's binary_logloss: 0.0138463\n",
      "[48]\tvalid_0's binary_logloss: 0.013848\n",
      "[49]\tvalid_0's binary_logloss: 0.013851\n",
      "[50]\tvalid_0's binary_logloss: 0.0138487\n",
      "[51]\tvalid_0's binary_logloss: 0.013836\n",
      "[52]\tvalid_0's binary_logloss: 0.0138325\n",
      "[53]\tvalid_0's binary_logloss: 0.0138313\n",
      "[54]\tvalid_0's binary_logloss: 0.0138265\n",
      "[55]\tvalid_0's binary_logloss: 0.0138245\n",
      "[56]\tvalid_0's binary_logloss: 0.0138215\n",
      "[57]\tvalid_0's binary_logloss: 0.0138151\n",
      "[58]\tvalid_0's binary_logloss: 0.013813\n",
      "[59]\tvalid_0's binary_logloss: 0.0138045\n",
      "[60]\tvalid_0's binary_logloss: 0.0138124\n",
      "[61]\tvalid_0's binary_logloss: 0.0138118\n",
      "[62]\tvalid_0's binary_logloss: 0.0138147\n",
      "[63]\tvalid_0's binary_logloss: 0.0138172\n",
      "[64]\tvalid_0's binary_logloss: 0.0138193\n",
      "[65]\tvalid_0's binary_logloss: 0.0138186\n",
      "[66]\tvalid_0's binary_logloss: 0.0138093\n",
      "[67]\tvalid_0's binary_logloss: 0.0138121\n",
      "[68]\tvalid_0's binary_logloss: 0.0138091\n",
      "[69]\tvalid_0's binary_logloss: 0.0138195\n",
      "[70]\tvalid_0's binary_logloss: 0.013816\n",
      "[71]\tvalid_0's binary_logloss: 0.013827\n",
      "[72]\tvalid_0's binary_logloss: 0.0138266\n",
      "[73]\tvalid_0's binary_logloss: 0.0138136\n",
      "[74]\tvalid_0's binary_logloss: 0.0138167\n",
      "[75]\tvalid_0's binary_logloss: 0.0138146\n",
      "[76]\tvalid_0's binary_logloss: 0.0138224\n",
      "[77]\tvalid_0's binary_logloss: 0.0138239\n",
      "[78]\tvalid_0's binary_logloss: 0.0138262\n",
      "[79]\tvalid_0's binary_logloss: 0.0138286\n",
      "[80]\tvalid_0's binary_logloss: 0.0138291\n",
      "[81]\tvalid_0's binary_logloss: 0.013822\n",
      "[82]\tvalid_0's binary_logloss: 0.0138254\n",
      "[83]\tvalid_0's binary_logloss: 0.013832\n",
      "[84]\tvalid_0's binary_logloss: 0.0138348\n",
      "[85]\tvalid_0's binary_logloss: 0.0138402\n",
      "[86]\tvalid_0's binary_logloss: 0.0138362\n",
      "[87]\tvalid_0's binary_logloss: 0.0138424\n",
      "[88]\tvalid_0's binary_logloss: 0.0138499\n",
      "[89]\tvalid_0's binary_logloss: 0.0138537\n",
      "[90]\tvalid_0's binary_logloss: 0.0138547\n",
      "[91]\tvalid_0's binary_logloss: 0.0138607\n",
      "[92]\tvalid_0's binary_logloss: 0.0138669\n",
      "[93]\tvalid_0's binary_logloss: 0.0138654\n",
      "[94]\tvalid_0's binary_logloss: 0.0138622\n",
      "[95]\tvalid_0's binary_logloss: 0.0138696\n",
      "[96]\tvalid_0's binary_logloss: 0.0138738\n",
      "[97]\tvalid_0's binary_logloss: 0.0138784\n",
      "[98]\tvalid_0's binary_logloss: 0.0138894\n",
      "[99]\tvalid_0's binary_logloss: 0.0138924\n",
      "[100]\tvalid_0's binary_logloss: 0.0138938\n"
     ]
    }
   ],
   "source": [
    "# use the sklearn api classification model\n",
    "col = [c for c in train.columns if c not in ['id', 'Class']]\n",
    "X1, X2, Y1, Y2 =  train_test_split(train[col], \\\n",
    "                            train['Class'], test_size=0.3, \\\n",
    "                            random_state=5)\n",
    "\n",
    "\n",
    "LIB = lgb.LGBMClassifier(boosting_type='gbdt', \\\n",
    "                         num_leaves=40, \\\n",
    "                         max_depth=8,\\\n",
    "                         learning_rate=0.03, n_estimators=100, \\\n",
    "                         subsample_for_bin=20000, objective=None, \\\n",
    "                         class_weight=None, min_split_gain=0.0, \\\n",
    "                         min_child_weight=0.001, min_child_samples=20, \\\n",
    "                         subsample=1.0, subsample_freq=0, \\\n",
    "                         colsample_bytree=1.0,\\\n",
    "                         reg_alpha=0.0, reg_lambda=0.0, \\\n",
    "                         random_state=None, \\\n",
    "                         n_jobs=None, importance_type='split')\n",
    "\n",
    "LIB.fit(X1, Y1, eval_set=(X2, Y2))\n",
    "test['Class'] = LIB.predict(test[col], type='class')"
   ]
  },
  {
   "cell_type": "code",
   "execution_count": null,
   "id": "8c20c922",
   "metadata": {
    "papermill": {
     "duration": 0.004408,
     "end_time": "2023-01-26T02:53:33.528207",
     "exception": false,
     "start_time": "2023-01-26T02:53:33.523799",
     "status": "completed"
    },
    "tags": []
   },
   "outputs": [],
   "source": []
  },
  {
   "cell_type": "code",
   "execution_count": 9,
   "id": "887e2550",
   "metadata": {
    "execution": {
     "iopub.execute_input": "2023-01-26T02:53:33.539629Z",
     "iopub.status.busy": "2023-01-26T02:53:33.538538Z",
     "iopub.status.idle": "2023-01-26T02:53:33.718399Z",
     "shell.execute_reply": "2023-01-26T02:53:33.717004Z"
    },
    "papermill": {
     "duration": 0.187955,
     "end_time": "2023-01-26T02:53:33.720759",
     "exception": false,
     "start_time": "2023-01-26T02:53:33.532804",
     "status": "completed"
    },
    "tags": []
   },
   "outputs": [
    {
     "name": "stdout",
     "output_type": "stream",
     "text": [
      "              precision    recall  f1-score   support\n",
      "\n",
      "           0       1.00      1.00      1.00     65596\n",
      "           1       0.21      0.03      0.06       143\n",
      "\n",
      "    accuracy                           1.00     65739\n",
      "   macro avg       0.60      0.52      0.53     65739\n",
      "weighted avg       1.00      1.00      1.00     65739\n",
      "\n"
     ]
    }
   ],
   "source": [
    "y_pred = LIB.predict(X2)\n",
    "y_test = Y2\n",
    "\n",
    "print(classification_report(y_test, y_pred))\n",
    "#cm = confusion_matrix(y_test, y_pred)\n",
    "#print('Confusion matrix\\n\\n', cm)\n",
    "#print('\\nTrue Positives(TP) = ', cm[0,0])\n",
    "#print('\\nTrue Negatives(TN) = ', cm[1,1])\n",
    "#print('\\nFalse Positives(FP) = ', cm[0,1])\n",
    "#print('\\nFalse Negatives(FN) = ', cm[1,0])\n",
    "\n"
   ]
  },
  {
   "cell_type": "code",
   "execution_count": 10,
   "id": "83706f98",
   "metadata": {
    "execution": {
     "iopub.execute_input": "2023-01-26T02:53:33.732335Z",
     "iopub.status.busy": "2023-01-26T02:53:33.731969Z",
     "iopub.status.idle": "2023-01-26T02:53:33.790215Z",
     "shell.execute_reply": "2023-01-26T02:53:33.788921Z"
    },
    "papermill": {
     "duration": 0.066629,
     "end_time": "2023-01-26T02:53:33.792596",
     "exception": false,
     "start_time": "2023-01-26T02:53:33.725967",
     "status": "completed"
    },
    "tags": []
   },
   "outputs": [
    {
     "name": "stdout",
     "output_type": "stream",
     "text": [
      "0.5293423023651351\n",
      "0.059880239520958084\n"
     ]
    }
   ],
   "source": [
    "report = classification_report(y_test, y_pred, output_dict=True)\n",
    "print(report['macro avg']['f1-score'])\n",
    "print(report['1']['f1-score'])"
   ]
  },
  {
   "cell_type": "code",
   "execution_count": null,
   "id": "4be56646",
   "metadata": {
    "papermill": {
     "duration": 0.004548,
     "end_time": "2023-01-26T02:53:33.802279",
     "exception": false,
     "start_time": "2023-01-26T02:53:33.797731",
     "status": "completed"
    },
    "tags": []
   },
   "outputs": [],
   "source": []
  },
  {
   "cell_type": "code",
   "execution_count": null,
   "id": "4424e248",
   "metadata": {
    "papermill": {
     "duration": 0.004703,
     "end_time": "2023-01-26T02:53:33.812513",
     "exception": false,
     "start_time": "2023-01-26T02:53:33.807810",
     "status": "completed"
    },
    "tags": []
   },
   "outputs": [],
   "source": []
  }
 ],
 "metadata": {
  "kernelspec": {
   "display_name": "Python 3",
   "language": "python",
   "name": "python3"
  },
  "language_info": {
   "codemirror_mode": {
    "name": "ipython",
    "version": 3
   },
   "file_extension": ".py",
   "mimetype": "text/x-python",
   "name": "python",
   "nbconvert_exporter": "python",
   "pygments_lexer": "ipython3",
   "version": "3.7.12"
  },
  "papermill": {
   "default_parameters": {},
   "duration": 28.80817,
   "end_time": "2023-01-26T02:53:34.640124",
   "environment_variables": {},
   "exception": null,
   "input_path": "__notebook__.ipynb",
   "output_path": "__notebook__.ipynb",
   "parameters": {},
   "start_time": "2023-01-26T02:53:05.831954",
   "version": "2.3.4"
  }
 },
 "nbformat": 4,
 "nbformat_minor": 5
}
